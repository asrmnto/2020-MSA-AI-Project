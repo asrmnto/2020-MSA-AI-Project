{
  "cells": [
    {
      "metadata": {
        "collapsed": true
      },
      "cell_type": "markdown",
      "source": "# MSA 2020 - AI & Advanced Analytics - Trending Youtube Video Statistics"
    },
    {
      "metadata": {
        "trusted": true
      },
      "cell_type": "markdown",
      "source": "### Import libraries"
    },
    {
      "metadata": {
        "trusted": true
      },
      "cell_type": "code",
      "source": "import pandas as pd\n\nfrom sklearn.linear_model import LinearRegression\nfrom sklearn.model_selection import train_test_split\nfrom sklearn.model_selection import cross_val_score\nfrom sklearn.model_selection import KFold",
      "execution_count": 1,
      "outputs": []
    },
    {
      "metadata": {},
      "cell_type": "markdown",
      "source": "### Read in file"
    },
    {
      "metadata": {
        "trusted": true
      },
      "cell_type": "code",
      "source": "df = pd.read_csv('US_youtube.csv', index_col=0)\ndf.head()",
      "execution_count": 2,
      "outputs": [
        {
          "output_type": "execute_result",
          "execution_count": 2,
          "data": {
            "text/html": "<div>\n<style scoped>\n    .dataframe tbody tr th:only-of-type {\n        vertical-align: middle;\n    }\n\n    .dataframe tbody tr th {\n        vertical-align: top;\n    }\n\n    .dataframe thead th {\n        text-align: right;\n    }\n</style>\n<table border=\"1\" class=\"dataframe\">\n  <thead>\n    <tr style=\"text-align: right;\">\n      <th></th>\n      <th>trending_date</th>\n      <th>title</th>\n      <th>channel_title</th>\n      <th>category_id</th>\n      <th>publish_time</th>\n      <th>tags</th>\n      <th>views</th>\n      <th>likes</th>\n      <th>dislikes</th>\n      <th>comment_count</th>\n      <th>thumbnail_link</th>\n      <th>comments_disabled</th>\n      <th>ratings_disabled</th>\n      <th>video_error_or_removed</th>\n      <th>description</th>\n    </tr>\n    <tr>\n      <th>video_id</th>\n      <th></th>\n      <th></th>\n      <th></th>\n      <th></th>\n      <th></th>\n      <th></th>\n      <th></th>\n      <th></th>\n      <th></th>\n      <th></th>\n      <th></th>\n      <th></th>\n      <th></th>\n      <th></th>\n      <th></th>\n    </tr>\n  </thead>\n  <tbody>\n    <tr>\n      <th>2kyS6SvSYSE</th>\n      <td>17.14.11</td>\n      <td>WE WANT TO TALK ABOUT OUR MARRIAGE</td>\n      <td>CaseyNeistat</td>\n      <td>22</td>\n      <td>2017-11-13T17:13:01.000Z</td>\n      <td>SHANtell martin</td>\n      <td>748374</td>\n      <td>57527</td>\n      <td>2966</td>\n      <td>15954</td>\n      <td>https://i.ytimg.com/vi/2kyS6SvSYSE/default.jpg</td>\n      <td>False</td>\n      <td>False</td>\n      <td>False</td>\n      <td>SHANTELL'S CHANNEL - https://www.youtube.com/s...</td>\n    </tr>\n    <tr>\n      <th>1ZAPwfrtAFY</th>\n      <td>17.14.11</td>\n      <td>The Trump Presidency: Last Week Tonight with J...</td>\n      <td>LastWeekTonight</td>\n      <td>24</td>\n      <td>2017-11-13T07:30:00.000Z</td>\n      <td>last week tonight trump presidency|\"last week ...</td>\n      <td>2418783</td>\n      <td>97185</td>\n      <td>6146</td>\n      <td>12703</td>\n      <td>https://i.ytimg.com/vi/1ZAPwfrtAFY/default.jpg</td>\n      <td>False</td>\n      <td>False</td>\n      <td>False</td>\n      <td>One year after the presidential election, John...</td>\n    </tr>\n    <tr>\n      <th>5qpjK5DgCt4</th>\n      <td>17.14.11</td>\n      <td>Racist Superman | Rudy Mancuso, King Bach &amp; Le...</td>\n      <td>Rudy Mancuso</td>\n      <td>23</td>\n      <td>2017-11-12T19:05:24.000Z</td>\n      <td>racist superman|\"rudy\"|\"mancuso\"|\"king\"|\"bach\"...</td>\n      <td>3191434</td>\n      <td>146033</td>\n      <td>5339</td>\n      <td>8181</td>\n      <td>https://i.ytimg.com/vi/5qpjK5DgCt4/default.jpg</td>\n      <td>False</td>\n      <td>False</td>\n      <td>False</td>\n      <td>WATCH MY PREVIOUS VIDEO ▶ \\n\\nSUBSCRIBE ► http...</td>\n    </tr>\n    <tr>\n      <th>puqaWrEC7tY</th>\n      <td>17.14.11</td>\n      <td>Nickelback Lyrics: Real or Fake?</td>\n      <td>Good Mythical Morning</td>\n      <td>24</td>\n      <td>2017-11-13T11:00:04.000Z</td>\n      <td>rhett and link|\"gmm\"|\"good mythical morning\"|\"...</td>\n      <td>343168</td>\n      <td>10172</td>\n      <td>666</td>\n      <td>2146</td>\n      <td>https://i.ytimg.com/vi/puqaWrEC7tY/default.jpg</td>\n      <td>False</td>\n      <td>False</td>\n      <td>False</td>\n      <td>Today we find out if Link is a Nickelback amat...</td>\n    </tr>\n    <tr>\n      <th>d380meD0W0M</th>\n      <td>17.14.11</td>\n      <td>I Dare You: GOING BALD!?</td>\n      <td>nigahiga</td>\n      <td>24</td>\n      <td>2017-11-12T18:01:41.000Z</td>\n      <td>ryan|\"higa\"|\"higatv\"|\"nigahiga\"|\"i dare you\"|\"...</td>\n      <td>2095731</td>\n      <td>132235</td>\n      <td>1989</td>\n      <td>17518</td>\n      <td>https://i.ytimg.com/vi/d380meD0W0M/default.jpg</td>\n      <td>False</td>\n      <td>False</td>\n      <td>False</td>\n      <td>I know it's been a while since we did this sho...</td>\n    </tr>\n  </tbody>\n</table>\n</div>",
            "text/plain": "            trending_date                                              title  \\\nvideo_id                                                                       \n2kyS6SvSYSE      17.14.11                 WE WANT TO TALK ABOUT OUR MARRIAGE   \n1ZAPwfrtAFY      17.14.11  The Trump Presidency: Last Week Tonight with J...   \n5qpjK5DgCt4      17.14.11  Racist Superman | Rudy Mancuso, King Bach & Le...   \npuqaWrEC7tY      17.14.11                   Nickelback Lyrics: Real or Fake?   \nd380meD0W0M      17.14.11                           I Dare You: GOING BALD!?   \n\n                     channel_title  category_id              publish_time  \\\nvideo_id                                                                    \n2kyS6SvSYSE           CaseyNeistat           22  2017-11-13T17:13:01.000Z   \n1ZAPwfrtAFY        LastWeekTonight           24  2017-11-13T07:30:00.000Z   \n5qpjK5DgCt4           Rudy Mancuso           23  2017-11-12T19:05:24.000Z   \npuqaWrEC7tY  Good Mythical Morning           24  2017-11-13T11:00:04.000Z   \nd380meD0W0M               nigahiga           24  2017-11-12T18:01:41.000Z   \n\n                                                          tags    views  \\\nvideo_id                                                                  \n2kyS6SvSYSE                                    SHANtell martin   748374   \n1ZAPwfrtAFY  last week tonight trump presidency|\"last week ...  2418783   \n5qpjK5DgCt4  racist superman|\"rudy\"|\"mancuso\"|\"king\"|\"bach\"...  3191434   \npuqaWrEC7tY  rhett and link|\"gmm\"|\"good mythical morning\"|\"...   343168   \nd380meD0W0M  ryan|\"higa\"|\"higatv\"|\"nigahiga\"|\"i dare you\"|\"...  2095731   \n\n              likes  dislikes  comment_count  \\\nvideo_id                                       \n2kyS6SvSYSE   57527      2966          15954   \n1ZAPwfrtAFY   97185      6146          12703   \n5qpjK5DgCt4  146033      5339           8181   \npuqaWrEC7tY   10172       666           2146   \nd380meD0W0M  132235      1989          17518   \n\n                                             thumbnail_link  \\\nvideo_id                                                      \n2kyS6SvSYSE  https://i.ytimg.com/vi/2kyS6SvSYSE/default.jpg   \n1ZAPwfrtAFY  https://i.ytimg.com/vi/1ZAPwfrtAFY/default.jpg   \n5qpjK5DgCt4  https://i.ytimg.com/vi/5qpjK5DgCt4/default.jpg   \npuqaWrEC7tY  https://i.ytimg.com/vi/puqaWrEC7tY/default.jpg   \nd380meD0W0M  https://i.ytimg.com/vi/d380meD0W0M/default.jpg   \n\n             comments_disabled  ratings_disabled  video_error_or_removed  \\\nvideo_id                                                                   \n2kyS6SvSYSE              False             False                   False   \n1ZAPwfrtAFY              False             False                   False   \n5qpjK5DgCt4              False             False                   False   \npuqaWrEC7tY              False             False                   False   \nd380meD0W0M              False             False                   False   \n\n                                                   description  \nvideo_id                                                        \n2kyS6SvSYSE  SHANTELL'S CHANNEL - https://www.youtube.com/s...  \n1ZAPwfrtAFY  One year after the presidential election, John...  \n5qpjK5DgCt4  WATCH MY PREVIOUS VIDEO ▶ \\n\\nSUBSCRIBE ► http...  \npuqaWrEC7tY  Today we find out if Link is a Nickelback amat...  \nd380meD0W0M  I know it's been a while since we did this sho...  "
          },
          "metadata": {}
        }
      ]
    },
    {
      "metadata": {},
      "cell_type": "markdown",
      "source": "### Remove unwanted columns"
    },
    {
      "metadata": {
        "trusted": true
      },
      "cell_type": "code",
      "source": "df.isnull().sum()",
      "execution_count": 3,
      "outputs": [
        {
          "output_type": "execute_result",
          "execution_count": 3,
          "data": {
            "text/plain": "trending_date               0\ntitle                       0\nchannel_title               0\ncategory_id                 0\npublish_time                0\ntags                        0\nviews                       0\nlikes                       0\ndislikes                    0\ncomment_count               0\nthumbnail_link              0\ncomments_disabled           0\nratings_disabled            0\nvideo_error_or_removed      0\ndescription               570\ndtype: int64"
          },
          "metadata": {}
        }
      ]
    },
    {
      "metadata": {
        "trusted": true
      },
      "cell_type": "code",
      "source": "df = df[[\"channel_title\", \"category_id\", \"publish_time\", \"views\", \"likes\", \"dislikes\", \"comment_count\", \"comments_disabled\", \"ratings_disabled\", \"video_error_or_removed\"]]\ndf.isnull().sum()",
      "execution_count": 4,
      "outputs": [
        {
          "output_type": "execute_result",
          "execution_count": 4,
          "data": {
            "text/plain": "channel_title             0\ncategory_id               0\npublish_time              0\nviews                     0\nlikes                     0\ndislikes                  0\ncomment_count             0\ncomments_disabled         0\nratings_disabled          0\nvideo_error_or_removed    0\ndtype: int64"
          },
          "metadata": {}
        }
      ]
    },
    {
      "metadata": {},
      "cell_type": "markdown",
      "source": "### Parse publish_time column"
    },
    {
      "metadata": {
        "trusted": true
      },
      "cell_type": "code",
      "source": "df['publish_time'] = df['publish_time'].astype(str)\ndf['publish_date'] = df['publish_time'].str.split('T').str[0]\ndf['publish_t'] = df['publish_time'].str.split('T').str[1]\n\ndf['publish_year'] = df['publish_date'].str.split('-').str[0].astype(int)\ndf['publish_month'] = df['publish_date'].str.split('-').str[1].astype(int)\ndf['publish_hour'] = df['publish_t'].str.split(':').str[0].astype(int)\n\ndf = df.drop(['publish_time', 'publish_date', 'publish_t'], axis=1)\ndf.head()",
      "execution_count": 5,
      "outputs": [
        {
          "output_type": "execute_result",
          "execution_count": 5,
          "data": {
            "text/html": "<div>\n<style scoped>\n    .dataframe tbody tr th:only-of-type {\n        vertical-align: middle;\n    }\n\n    .dataframe tbody tr th {\n        vertical-align: top;\n    }\n\n    .dataframe thead th {\n        text-align: right;\n    }\n</style>\n<table border=\"1\" class=\"dataframe\">\n  <thead>\n    <tr style=\"text-align: right;\">\n      <th></th>\n      <th>channel_title</th>\n      <th>category_id</th>\n      <th>views</th>\n      <th>likes</th>\n      <th>dislikes</th>\n      <th>comment_count</th>\n      <th>comments_disabled</th>\n      <th>ratings_disabled</th>\n      <th>video_error_or_removed</th>\n      <th>publish_year</th>\n      <th>publish_month</th>\n      <th>publish_hour</th>\n    </tr>\n    <tr>\n      <th>video_id</th>\n      <th></th>\n      <th></th>\n      <th></th>\n      <th></th>\n      <th></th>\n      <th></th>\n      <th></th>\n      <th></th>\n      <th></th>\n      <th></th>\n      <th></th>\n      <th></th>\n    </tr>\n  </thead>\n  <tbody>\n    <tr>\n      <th>2kyS6SvSYSE</th>\n      <td>CaseyNeistat</td>\n      <td>22</td>\n      <td>748374</td>\n      <td>57527</td>\n      <td>2966</td>\n      <td>15954</td>\n      <td>False</td>\n      <td>False</td>\n      <td>False</td>\n      <td>2017</td>\n      <td>11</td>\n      <td>17</td>\n    </tr>\n    <tr>\n      <th>1ZAPwfrtAFY</th>\n      <td>LastWeekTonight</td>\n      <td>24</td>\n      <td>2418783</td>\n      <td>97185</td>\n      <td>6146</td>\n      <td>12703</td>\n      <td>False</td>\n      <td>False</td>\n      <td>False</td>\n      <td>2017</td>\n      <td>11</td>\n      <td>7</td>\n    </tr>\n    <tr>\n      <th>5qpjK5DgCt4</th>\n      <td>Rudy Mancuso</td>\n      <td>23</td>\n      <td>3191434</td>\n      <td>146033</td>\n      <td>5339</td>\n      <td>8181</td>\n      <td>False</td>\n      <td>False</td>\n      <td>False</td>\n      <td>2017</td>\n      <td>11</td>\n      <td>19</td>\n    </tr>\n    <tr>\n      <th>puqaWrEC7tY</th>\n      <td>Good Mythical Morning</td>\n      <td>24</td>\n      <td>343168</td>\n      <td>10172</td>\n      <td>666</td>\n      <td>2146</td>\n      <td>False</td>\n      <td>False</td>\n      <td>False</td>\n      <td>2017</td>\n      <td>11</td>\n      <td>11</td>\n    </tr>\n    <tr>\n      <th>d380meD0W0M</th>\n      <td>nigahiga</td>\n      <td>24</td>\n      <td>2095731</td>\n      <td>132235</td>\n      <td>1989</td>\n      <td>17518</td>\n      <td>False</td>\n      <td>False</td>\n      <td>False</td>\n      <td>2017</td>\n      <td>11</td>\n      <td>18</td>\n    </tr>\n  </tbody>\n</table>\n</div>",
            "text/plain": "                     channel_title  category_id    views   likes  dislikes  \\\nvideo_id                                                                     \n2kyS6SvSYSE           CaseyNeistat           22   748374   57527      2966   \n1ZAPwfrtAFY        LastWeekTonight           24  2418783   97185      6146   \n5qpjK5DgCt4           Rudy Mancuso           23  3191434  146033      5339   \npuqaWrEC7tY  Good Mythical Morning           24   343168   10172       666   \nd380meD0W0M               nigahiga           24  2095731  132235      1989   \n\n             comment_count  comments_disabled  ratings_disabled  \\\nvideo_id                                                          \n2kyS6SvSYSE          15954              False             False   \n1ZAPwfrtAFY          12703              False             False   \n5qpjK5DgCt4           8181              False             False   \npuqaWrEC7tY           2146              False             False   \nd380meD0W0M          17518              False             False   \n\n             video_error_or_removed  publish_year  publish_month  publish_hour  \nvideo_id                                                                        \n2kyS6SvSYSE                   False          2017             11            17  \n1ZAPwfrtAFY                   False          2017             11             7  \n5qpjK5DgCt4                   False          2017             11            19  \npuqaWrEC7tY                   False          2017             11            11  \nd380meD0W0M                   False          2017             11            18  "
          },
          "metadata": {}
        }
      ]
    },
    {
      "metadata": {},
      "cell_type": "markdown",
      "source": "### Encode categorial columns"
    },
    {
      "metadata": {
        "trusted": true
      },
      "cell_type": "code",
      "source": "df = pd.get_dummies(df, columns=['channel_title', 'comments_disabled', 'ratings_disabled', 'video_error_or_removed'])\ndf.head()",
      "execution_count": 6,
      "outputs": [
        {
          "output_type": "execute_result",
          "execution_count": 6,
          "data": {
            "text/html": "<div>\n<style scoped>\n    .dataframe tbody tr th:only-of-type {\n        vertical-align: middle;\n    }\n\n    .dataframe tbody tr th {\n        vertical-align: top;\n    }\n\n    .dataframe thead th {\n        text-align: right;\n    }\n</style>\n<table border=\"1\" class=\"dataframe\">\n  <thead>\n    <tr style=\"text-align: right;\">\n      <th></th>\n      <th>category_id</th>\n      <th>views</th>\n      <th>likes</th>\n      <th>dislikes</th>\n      <th>comment_count</th>\n      <th>publish_year</th>\n      <th>publish_month</th>\n      <th>publish_hour</th>\n      <th>channel_title_12 News</th>\n      <th>channel_title_1MILLION Dance Studio</th>\n      <th>...</th>\n      <th>channel_title_圧倒的不審者の極み!</th>\n      <th>channel_title_杰威爾音樂 JVR Music</th>\n      <th>channel_title_郭韋辰</th>\n      <th>channel_title_영국남자 Korean Englishman</th>\n      <th>comments_disabled_False</th>\n      <th>comments_disabled_True</th>\n      <th>ratings_disabled_False</th>\n      <th>ratings_disabled_True</th>\n      <th>video_error_or_removed_False</th>\n      <th>video_error_or_removed_True</th>\n    </tr>\n    <tr>\n      <th>video_id</th>\n      <th></th>\n      <th></th>\n      <th></th>\n      <th></th>\n      <th></th>\n      <th></th>\n      <th></th>\n      <th></th>\n      <th></th>\n      <th></th>\n      <th></th>\n      <th></th>\n      <th></th>\n      <th></th>\n      <th></th>\n      <th></th>\n      <th></th>\n      <th></th>\n      <th></th>\n      <th></th>\n      <th></th>\n    </tr>\n  </thead>\n  <tbody>\n    <tr>\n      <th>2kyS6SvSYSE</th>\n      <td>22</td>\n      <td>748374</td>\n      <td>57527</td>\n      <td>2966</td>\n      <td>15954</td>\n      <td>2017</td>\n      <td>11</td>\n      <td>17</td>\n      <td>0</td>\n      <td>0</td>\n      <td>...</td>\n      <td>0</td>\n      <td>0</td>\n      <td>0</td>\n      <td>0</td>\n      <td>1</td>\n      <td>0</td>\n      <td>1</td>\n      <td>0</td>\n      <td>1</td>\n      <td>0</td>\n    </tr>\n    <tr>\n      <th>1ZAPwfrtAFY</th>\n      <td>24</td>\n      <td>2418783</td>\n      <td>97185</td>\n      <td>6146</td>\n      <td>12703</td>\n      <td>2017</td>\n      <td>11</td>\n      <td>7</td>\n      <td>0</td>\n      <td>0</td>\n      <td>...</td>\n      <td>0</td>\n      <td>0</td>\n      <td>0</td>\n      <td>0</td>\n      <td>1</td>\n      <td>0</td>\n      <td>1</td>\n      <td>0</td>\n      <td>1</td>\n      <td>0</td>\n    </tr>\n    <tr>\n      <th>5qpjK5DgCt4</th>\n      <td>23</td>\n      <td>3191434</td>\n      <td>146033</td>\n      <td>5339</td>\n      <td>8181</td>\n      <td>2017</td>\n      <td>11</td>\n      <td>19</td>\n      <td>0</td>\n      <td>0</td>\n      <td>...</td>\n      <td>0</td>\n      <td>0</td>\n      <td>0</td>\n      <td>0</td>\n      <td>1</td>\n      <td>0</td>\n      <td>1</td>\n      <td>0</td>\n      <td>1</td>\n      <td>0</td>\n    </tr>\n    <tr>\n      <th>puqaWrEC7tY</th>\n      <td>24</td>\n      <td>343168</td>\n      <td>10172</td>\n      <td>666</td>\n      <td>2146</td>\n      <td>2017</td>\n      <td>11</td>\n      <td>11</td>\n      <td>0</td>\n      <td>0</td>\n      <td>...</td>\n      <td>0</td>\n      <td>0</td>\n      <td>0</td>\n      <td>0</td>\n      <td>1</td>\n      <td>0</td>\n      <td>1</td>\n      <td>0</td>\n      <td>1</td>\n      <td>0</td>\n    </tr>\n    <tr>\n      <th>d380meD0W0M</th>\n      <td>24</td>\n      <td>2095731</td>\n      <td>132235</td>\n      <td>1989</td>\n      <td>17518</td>\n      <td>2017</td>\n      <td>11</td>\n      <td>18</td>\n      <td>0</td>\n      <td>0</td>\n      <td>...</td>\n      <td>0</td>\n      <td>0</td>\n      <td>0</td>\n      <td>0</td>\n      <td>1</td>\n      <td>0</td>\n      <td>1</td>\n      <td>0</td>\n      <td>1</td>\n      <td>0</td>\n    </tr>\n  </tbody>\n</table>\n<p>5 rows × 2221 columns</p>\n</div>",
            "text/plain": "             category_id    views   likes  dislikes  comment_count  \\\nvideo_id                                                             \n2kyS6SvSYSE           22   748374   57527      2966          15954   \n1ZAPwfrtAFY           24  2418783   97185      6146          12703   \n5qpjK5DgCt4           23  3191434  146033      5339           8181   \npuqaWrEC7tY           24   343168   10172       666           2146   \nd380meD0W0M           24  2095731  132235      1989          17518   \n\n             publish_year  publish_month  publish_hour  channel_title_12 News  \\\nvideo_id                                                                        \n2kyS6SvSYSE          2017             11            17                      0   \n1ZAPwfrtAFY          2017             11             7                      0   \n5qpjK5DgCt4          2017             11            19                      0   \npuqaWrEC7tY          2017             11            11                      0   \nd380meD0W0M          2017             11            18                      0   \n\n             channel_title_1MILLION Dance Studio             ...               \\\nvideo_id                                                     ...                \n2kyS6SvSYSE                                    0             ...                \n1ZAPwfrtAFY                                    0             ...                \n5qpjK5DgCt4                                    0             ...                \npuqaWrEC7tY                                    0             ...                \nd380meD0W0M                                    0             ...                \n\n             channel_title_圧倒的不審者の極み!  channel_title_杰威爾音樂 JVR Music  \\\nvideo_id                                                               \n2kyS6SvSYSE                         0                              0   \n1ZAPwfrtAFY                         0                              0   \n5qpjK5DgCt4                         0                              0   \npuqaWrEC7tY                         0                              0   \nd380meD0W0M                         0                              0   \n\n             channel_title_郭韋辰  channel_title_영국남자 Korean Englishman  \\\nvideo_id                                                               \n2kyS6SvSYSE                  0                                     0   \n1ZAPwfrtAFY                  0                                     0   \n5qpjK5DgCt4                  0                                     0   \npuqaWrEC7tY                  0                                     0   \nd380meD0W0M                  0                                     0   \n\n             comments_disabled_False  comments_disabled_True  \\\nvideo_id                                                       \n2kyS6SvSYSE                        1                       0   \n1ZAPwfrtAFY                        1                       0   \n5qpjK5DgCt4                        1                       0   \npuqaWrEC7tY                        1                       0   \nd380meD0W0M                        1                       0   \n\n             ratings_disabled_False  ratings_disabled_True  \\\nvideo_id                                                     \n2kyS6SvSYSE                       1                      0   \n1ZAPwfrtAFY                       1                      0   \n5qpjK5DgCt4                       1                      0   \npuqaWrEC7tY                       1                      0   \nd380meD0W0M                       1                      0   \n\n             video_error_or_removed_False  video_error_or_removed_True  \nvideo_id                                                                \n2kyS6SvSYSE                             1                            0  \n1ZAPwfrtAFY                             1                            0  \n5qpjK5DgCt4                             1                            0  \npuqaWrEC7tY                             1                            0  \nd380meD0W0M                             1                            0  \n\n[5 rows x 2221 columns]"
          },
          "metadata": {}
        }
      ]
    },
    {
      "metadata": {},
      "cell_type": "markdown",
      "source": "### Split data into training and testing sets"
    },
    {
      "metadata": {
        "trusted": true
      },
      "cell_type": "code",
      "source": "train_x, test_x, train_y, test_y = train_test_split(df.drop('views', axis=1), df['views'], test_size=0.2)",
      "execution_count": 7,
      "outputs": []
    },
    {
      "metadata": {
        "trusted": true
      },
      "cell_type": "code",
      "source": "from sklearn.linear_model import LinearRegression\nfrom sklearn.linear_model import Lasso\nfrom sklearn.linear_model import ElasticNet\nfrom sklearn.linear_model import Ridge\nfrom sklearn.svm import SVR\nfrom sklearn.tree import DecisionTreeRegressor\nfrom sklearn.neighbors import KNeighborsRegressor\nfrom sklearn.ensemble import GradientBoostingRegressor\n\nfrom sklearn.model_selection import cross_val_score\n\nregressors = [LinearRegression(), Lasso(), ElasticNet(), Ridge(), SVR(), DecisionTreeRegressor(), KNeighborsRegressor(), GradientBoostingRegressor()]\nregressor_accuracy_list = []\n\nfor i, regressor in enumerate(regressors):\n    print(regressor)\n    accuracies = cross_val_score(regressor, train_x, train_y, cv=5)\n    regressor_accuracy_list.append((accuracies.mean()))\n\nregressor_accuracy_list = sorted(regressor_accuracy_list, reverse=True)\nfor item in regressor_accuracy_list:\n    print(item[1], \": \", items[0])",
      "execution_count": null,
      "outputs": [
        {
          "output_type": "stream",
          "text": "LinearRegression(copy_X=True, fit_intercept=True, n_jobs=None,\n         normalize=False)\nLasso(alpha=1.0, copy_X=True, fit_intercept=True, max_iter=1000,\n   normalize=False, positive=False, precompute=False, random_state=None,\n   selection='cyclic', tol=0.0001, warm_start=False)\n",
          "name": "stdout"
        }
      ]
    },
    {
      "metadata": {
        "trusted": true
      },
      "cell_type": "code",
      "source": "",
      "execution_count": null,
      "outputs": []
    }
  ],
  "metadata": {
    "kernelspec": {
      "name": "python36",
      "display_name": "Python 3.6",
      "language": "python"
    },
    "language_info": {
      "mimetype": "text/x-python",
      "nbconvert_exporter": "python",
      "name": "python",
      "pygments_lexer": "ipython3",
      "version": "3.6.6",
      "file_extension": ".py",
      "codemirror_mode": {
        "version": 3,
        "name": "ipython"
      }
    }
  },
  "nbformat": 4,
  "nbformat_minor": 2
}